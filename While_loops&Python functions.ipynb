{
 "cells": [
  {
   "cell_type": "code",
   "execution_count": 1,
   "metadata": {},
   "outputs": [],
   "source": [
    "#Introduction to while loops\n",
    "#While loop will run the program till the condition remian true and met.\n"
   ]
  },
  {
   "cell_type": "code",
   "execution_count": 4,
   "metadata": {},
   "outputs": [
    {
     "name": "stdout",
     "output_type": "stream",
     "text": [
      "1\n",
      "2\n",
      "3\n",
      "4\n",
      "5\n",
      "i is no longer less than 6\n"
     ]
    }
   ],
   "source": [
    "i = 1\n",
    "\n",
    "while i <6:\n",
    "    print(i)\n",
    "    i+= 1 #incrementing teh value of i by 1\n",
    "else:\n",
    "    print(\"i is no longer less than 6\")"
   ]
  },
  {
   "cell_type": "code",
   "execution_count": null,
   "metadata": {},
   "outputs": [],
   "source": [
    "#Introduction to python functions\n",
    "\n",
    "#A func is a block of code which only runs when it is called.\n",
    "#passing data is known as papameters\n",
    "#calling function by giving arguments"
   ]
  },
  {
   "cell_type": "code",
   "execution_count": 8,
   "metadata": {},
   "outputs": [
    {
     "name": "stdout",
     "output_type": "stream",
     "text": [
      "Good Morning\n"
     ]
    }
   ],
   "source": [
    "def my_function():\n",
    "    print(\"Good Morning\")\n",
    "    \n",
    "    \n",
    "my_function()\n",
    "    "
   ]
  },
  {
   "cell_type": "code",
   "execution_count": 25,
   "metadata": {},
   "outputs": [
    {
     "name": "stdout",
     "output_type": "stream",
     "text": [
      "Good Morning,Sri\n"
     ]
    }
   ],
   "source": [
    "def name(fname):\n",
    "    print(\"Good Morning,\"+fname)\n",
    "    \n",
    "name('Sri')\n",
    "\n"
   ]
  },
  {
   "cell_type": "code",
   "execution_count": 27,
   "metadata": {},
   "outputs": [
    {
     "name": "stdout",
     "output_type": "stream",
     "text": [
      "Welcome back,Sri\n"
     ]
    }
   ],
   "source": [
    "def greet_user(username):\n",
    "    print(\"Welcome back,\"+username)\n",
    "    \n",
    "greet_user('Sri')"
   ]
  },
  {
   "cell_type": "code",
   "execution_count": 34,
   "metadata": {},
   "outputs": [
    {
     "name": "stdout",
     "output_type": "stream",
     "text": [
      "\n",
      "I have a dog\n",
      "my dog's name is sheru\n"
     ]
    }
   ],
   "source": [
    "def pet(type,name):\n",
    "    print(f\"\\nI have a {type}\")\n",
    "    print(f\"my {type}'s name is {name}\")\n",
    "\n",
    "pet('dog','sheru')"
   ]
  },
  {
   "cell_type": "code",
   "execution_count": 36,
   "metadata": {},
   "outputs": [
    {
     "name": "stdout",
     "output_type": "stream",
     "text": [
      "\n",
      "I have a dog\n",
      "my dog's name is sheru\n"
     ]
    }
   ],
   "source": [
    "def pet(type='dog',name='sheru'):\n",
    "    print(f\"\\nI have a {type}\")\n",
    "    print(f\"my {type}'s name is {name}\")\n",
    "    \n",
    "pet()\n",
    "    \n"
   ]
  },
  {
   "cell_type": "code",
   "execution_count": null,
   "metadata": {},
   "outputs": [],
   "source": []
  },
  {
   "cell_type": "code",
   "execution_count": null,
   "metadata": {},
   "outputs": [],
   "source": []
  }
 ],
 "metadata": {
  "kernelspec": {
   "display_name": "Python 3",
   "language": "python",
   "name": "python3"
  },
  "language_info": {
   "codemirror_mode": {
    "name": "ipython",
    "version": 3
   },
   "file_extension": ".py",
   "mimetype": "text/x-python",
   "name": "python",
   "nbconvert_exporter": "python",
   "pygments_lexer": "ipython3",
   "version": "3.7.3"
  }
 },
 "nbformat": 4,
 "nbformat_minor": 2
}
