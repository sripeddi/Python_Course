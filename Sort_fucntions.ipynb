{
 "cells": [
  {
   "cell_type": "code",
   "execution_count": 3,
   "metadata": {},
   "outputs": [
    {
     "name": "stdout",
     "output_type": "stream",
     "text": [
      "['sri', 'divya', 'neha']\n"
     ]
    }
   ],
   "source": [
    "#remove elements from list\n",
    "\n",
    "students_list = [ 'sri','divya','neha']\n",
    "print(students_list)\n"
   ]
  },
  {
   "cell_type": "code",
   "execution_count": 5,
   "metadata": {},
   "outputs": [
    {
     "name": "stdout",
     "output_type": "stream",
     "text": [
      "['sri', 'neha']\n"
     ]
    }
   ],
   "source": [
    "students_list.remove('divya')\n",
    "print(students_list)"
   ]
  },
  {
   "cell_type": "code",
   "execution_count": 6,
   "metadata": {},
   "outputs": [
    {
     "name": "stdout",
     "output_type": "stream",
     "text": [
      "['ford', 'bmw', 'benz', 'rangrover']\n"
     ]
    }
   ],
   "source": [
    "#Sort\n",
    "\n",
    "cars = ['ford','bmw','benz','rangrover']\n",
    "print(cars)"
   ]
  },
  {
   "cell_type": "code",
   "execution_count": 7,
   "metadata": {},
   "outputs": [
    {
     "name": "stdout",
     "output_type": "stream",
     "text": [
      "['benz', 'bmw', 'ford', 'rangrover']\n"
     ]
    }
   ],
   "source": [
    "cars.sort()\n",
    "print(cars)\n",
    "# Using sort function the list will be arranged alphabetically and also the list is changed permanently."
   ]
  },
  {
   "cell_type": "code",
   "execution_count": 11,
   "metadata": {},
   "outputs": [
    {
     "name": "stdout",
     "output_type": "stream",
     "text": [
      "['benz', 'bmw', 'ford', 'rangrover', 'audi']\n"
     ]
    }
   ],
   "source": [
    "cars.append('audi')\n",
    "print(cars)"
   ]
  },
  {
   "cell_type": "code",
   "execution_count": 12,
   "metadata": {},
   "outputs": [
    {
     "name": "stdout",
     "output_type": "stream",
     "text": [
      "['audi', 'benz', 'bmw', 'ford', 'rangrover', 'audi']\n"
     ]
    }
   ],
   "source": [
    "cars.insert(0,'audi')\n",
    "print(cars)"
   ]
  },
  {
   "cell_type": "code",
   "execution_count": 13,
   "metadata": {},
   "outputs": [
    {
     "name": "stdout",
     "output_type": "stream",
     "text": [
      "['benz', 'bmw', 'ford', 'rangrover', 'audi']\n"
     ]
    }
   ],
   "source": [
    "cars.remove('audi')\n",
    "print(cars)"
   ]
  },
  {
   "cell_type": "code",
   "execution_count": 14,
   "metadata": {},
   "outputs": [
    {
     "name": "stdout",
     "output_type": "stream",
     "text": [
      "['benz', 'bmw', 'ford', 'rangrover']\n"
     ]
    }
   ],
   "source": [
    "cars.remove('audi')\n",
    "print(cars)"
   ]
  },
  {
   "cell_type": "code",
   "execution_count": 15,
   "metadata": {},
   "outputs": [
    {
     "name": "stdout",
     "output_type": "stream",
     "text": [
      "here is the original list\n",
      "['audi', 'benz', 'bmw', 'rangrover', 'ford']\n"
     ]
    }
   ],
   "source": [
    "#To sort temporarily we use \"SORTED\" fucntion\n",
    "\n",
    "cars_1 = ['audi','benz','bmw','rangrover','ford']\n",
    "\n",
    "print(\"here is the original list\")\n",
    "print(cars_1)\n"
   ]
  },
  {
   "cell_type": "code",
   "execution_count": 18,
   "metadata": {
    "scrolled": true
   },
   "outputs": [
    {
     "name": "stdout",
     "output_type": "stream",
     "text": [
      "\n",
      "here is the sorted list\n",
      "['audi', 'benz', 'bmw', 'ford', 'rangrover']\n",
      "\n",
      "here is the original list again\n",
      "['audi', 'benz', 'bmw', 'rangrover', 'ford']\n"
     ]
    }
   ],
   "source": [
    "print (\"\\nhere is the sorted list\")\n",
    "print(sorted(cars_1))\n",
    "\n",
    "\n",
    "print(\"\\nhere is the original list again\")\n",
    "print(cars_1)\n"
   ]
  },
  {
   "cell_type": "code",
   "execution_count": 19,
   "metadata": {},
   "outputs": [
    {
     "name": "stdout",
     "output_type": "stream",
     "text": [
      "['ford', 'rangrover', 'bmw', 'benz', 'audi']\n"
     ]
    }
   ],
   "source": [
    "#how to reverse a list\n",
    "\n",
    "cars_1.reverse()\n",
    "print(cars_1)"
   ]
  },
  {
   "cell_type": "code",
   "execution_count": 22,
   "metadata": {},
   "outputs": [
    {
     "data": {
      "text/plain": [
       "5"
      ]
     },
     "execution_count": 22,
     "metadata": {},
     "output_type": "execute_result"
    }
   ],
   "source": [
    "#how to count number of elemnts in the list.\n",
    "len(cars_1)"
   ]
  },
  {
   "cell_type": "code",
   "execution_count": null,
   "metadata": {},
   "outputs": [],
   "source": []
  }
 ],
 "metadata": {
  "kernelspec": {
   "display_name": "Python 3",
   "language": "python",
   "name": "python3"
  },
  "language_info": {
   "codemirror_mode": {
    "name": "ipython",
    "version": 3
   },
   "file_extension": ".py",
   "mimetype": "text/x-python",
   "name": "python",
   "nbconvert_exporter": "python",
   "pygments_lexer": "ipython3",
   "version": "3.7.3"
  }
 },
 "nbformat": 4,
 "nbformat_minor": 2
}
