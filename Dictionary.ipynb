{
 "cells": [
  {
   "cell_type": "code",
   "execution_count": 2,
   "metadata": {},
   "outputs": [],
   "source": [
    "#Dictionary data type is mutable.\n",
    "\n",
    "#Key -value pair declaration.\n",
    "\n",
    "#Username: Sri - key\n",
    "#password: xxxxx- value\n",
    "#how to declare dict.\n",
    "#dict{}"
   ]
  },
  {
   "cell_type": "code",
   "execution_count": 4,
   "metadata": {},
   "outputs": [
    {
     "name": "stdout",
     "output_type": "stream",
     "text": [
      "Sri\n"
     ]
    }
   ],
   "source": [
    "x = {'Name':'Sri','age':2,'class':2}\n",
    "print(x['Name'])"
   ]
  },
  {
   "cell_type": "code",
   "execution_count": 5,
   "metadata": {},
   "outputs": [
    {
     "name": "stdout",
     "output_type": "stream",
     "text": [
      "{'Name': 'Sri', 'age': 8, 'class': 2, 'school': 'DPS'}\n"
     ]
    }
   ],
   "source": [
    "#keyerror displayed when accessing element that is not defined in list.\n",
    "x = {'Name':'Sri','age':2,'class':2}\n",
    "x['age']=8\n",
    "x['school']= 'DPS'\n",
    "print(x)"
   ]
  },
  {
   "cell_type": "code",
   "execution_count": 6,
   "metadata": {},
   "outputs": [
    {
     "name": "stdout",
     "output_type": "stream",
     "text": [
      "{'Name': 'Sri', 'age': 8, 'school': 'DPS'}\n"
     ]
    }
   ],
   "source": [
    "#how to delete values from dict\n",
    "del x['class']\n",
    "print(x)"
   ]
  },
  {
   "cell_type": "code",
   "execution_count": 7,
   "metadata": {},
   "outputs": [
    {
     "name": "stdout",
     "output_type": "stream",
     "text": [
      "{}\n"
     ]
    }
   ],
   "source": [
    "x.clear()\n",
    "print(x)"
   ]
  },
  {
   "cell_type": "code",
   "execution_count": null,
   "metadata": {},
   "outputs": [],
   "source": []
  }
 ],
 "metadata": {
  "kernelspec": {
   "display_name": "Python 3",
   "language": "python",
   "name": "python3"
  },
  "language_info": {
   "codemirror_mode": {
    "name": "ipython",
    "version": 3
   },
   "file_extension": ".py",
   "mimetype": "text/x-python",
   "name": "python",
   "nbconvert_exporter": "python",
   "pygments_lexer": "ipython3",
   "version": "3.7.3"
  }
 },
 "nbformat": 4,
 "nbformat_minor": 2
}
